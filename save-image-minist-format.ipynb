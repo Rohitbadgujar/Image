{
 "cells": [
  {
   "cell_type": "code",
   "execution_count": 2,
   "metadata": {},
   "outputs": [
    {
     "name": "stderr",
     "output_type": "stream",
     "text": [
      "Using TensorFlow backend.\n"
     ]
    }
   ],
   "source": [
    "import os,cv2\n",
    "import numpy as np\n",
    "import matplotlib.pyplot as plt\n",
    "from keras.preprocessing import image\n",
    "from sklearn.utils import shuffle\n",
    "from sklearn.model_selection import train_test_split\n",
    "from keras import backend as K\n",
    "#K.set_image_dim_ordering('th')\n",
    "\n",
    "from keras.utils import np_utils\n",
    "from keras.models import Sequential\n",
    "from keras.layers.core import Dense, Dropout, Activation, Flatten\n",
    "from keras.layers.convolutional import Convolution2D, MaxPooling2D\n",
    "from keras.optimizers import SGD,RMSprop,adam\n",
    "import pandas as pd\n",
    "import csv\n",
    "from os.path import splitext\n",
    "from sklearn.preprocessing import LabelEncoder\n",
    "from PIL import Image"
   ]
  },
  {
   "cell_type": "code",
   "execution_count": 30,
   "metadata": {},
   "outputs": [],
   "source": [
    "from imagepreparefunction import imageprepare"
   ]
  },
  {
   "cell_type": "code",
   "execution_count": 38,
   "metadata": {},
   "outputs": [
    {
     "name": "stdout",
     "output_type": "stream",
     "text": [
      "C:\\Users\\rohit\\Downloads\\MSc Project 19\\style_filter.csv\n"
     ]
    }
   ],
   "source": [
    "PATH = os.getcwd()\n",
    "# Define data path\n",
    "data_path = PATH + '\\images'\n",
    "data_dir_list = os.listdir(data_path)\n",
    "data_dir_list.sort() #good initial sort but doesnt sort numerically very well\n",
    "data_dir_list = sorted(data_dir_list)\n",
    "my_dataframe = pd.read_csv(PATH + '\\\\image-data-cnn.csv')\n",
    "data_path_label = PATH + '\\style_filter.csv'\n",
    "print(data_path_label)\n",
    "styledf=pd.read_csv(data_path_label)\n",
    "styledf.sort_values(\"id\", axis = 0, ascending = True, \n",
    "                 inplace = True, na_position ='last') \n",
    "styledf = styledf.loc[:, ~styledf.columns.str.contains('^Unnamed')]\n",
    "styledf\n",
    "styledf= styledf.sort_values(by=['id'])\n",
    "batchSize = 10000\n",
    "count = 0\n",
    "img_data_list=[]\n",
    "id_list = []\n",
    "label_list = []\n",
    "for img in styledf['id']:\n",
    "    styledf.dropna(inplace = True) \n",
    "    d = styledf.loc[styledf['id'].astype(str) == str(img)]\n",
    "    if not d.empty:\n",
    "        count = count + 1\n",
    "        id_list.append(img)\n",
    "        k = str_join = \"\".join((np.asarray(d.head(1).articleType)))\n",
    "        if(k == 'Shirts'):\n",
    "            label_list.append('0')\n",
    "        if(k == 'Shoes'):\n",
    "            label_list.append('1')\n",
    "        if(k == 'Trouser'):\n",
    "            label_list.append('2')    \n",
    "        x=imageprepare(data_path + '\\\\' + str(img) + '.jpg')#file path here\n",
    "        my_dataframe.loc[count, 2:] = x\n",
    "        if count > batchSize:\n",
    "            break"
   ]
  },
  {
   "cell_type": "code",
   "execution_count": null,
   "metadata": {},
   "outputs": [],
   "source": [
    "#Remove file if already exist \n",
    "my_dataframe['LABEL'] = label_list\n",
    "my_dataframe['ID'] = id_list\n",
    "if os.path.exists(\"CNN-image-dataset.csv\"):\n",
    "    os.remove(\"CNN-image-dataset.csv\")\n",
    "#Generate csv file for results\n",
    "my_dataframe.to_csv(os.path.join('CNN-image-dataset.csv'), index=False)"
   ]
  }
 ],
 "metadata": {
  "kernelspec": {
   "display_name": "Python 3",
   "language": "python",
   "name": "python3"
  },
  "language_info": {
   "codemirror_mode": {
    "name": "ipython",
    "version": 3
   },
   "file_extension": ".py",
   "mimetype": "text/x-python",
   "name": "python",
   "nbconvert_exporter": "python",
   "pygments_lexer": "ipython3",
   "version": "3.7.1"
  }
 },
 "nbformat": 4,
 "nbformat_minor": 2
}
