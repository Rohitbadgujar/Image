{
 "cells": [
  {
   "cell_type": "code",
   "execution_count": 1,
   "metadata": {},
   "outputs": [
    {
     "name": "stderr",
     "output_type": "stream",
     "text": [
      "Using TensorFlow backend.\n"
     ]
    }
   ],
   "source": [
    "import os,cv2\n",
    "import numpy as np\n",
    "import matplotlib.pyplot as plt\n",
    "from keras.preprocessing import image\n",
    "from sklearn.utils import shuffle\n",
    "from sklearn.model_selection import train_test_split\n",
    "from keras import backend as K\n",
    "#K.set_image_dim_ordering('th')\n",
    "\n",
    "from keras.utils import np_utils\n",
    "from keras.models import Sequential\n",
    "from keras.layers.core import Dense, Dropout, Activation, Flatten\n",
    "from keras.layers.convolutional import Convolution2D, MaxPooling2D\n",
    "from keras.optimizers import SGD,RMSprop,adam\n",
    "import pandas as pd\n",
    "import csv\n",
    "from os.path import splitext\n",
    "from sklearn.preprocessing import LabelEncoder\n",
    "from PIL import Image"
   ]
  },
  {
   "cell_type": "markdown",
   "metadata": {},
   "source": [
    "# CNN with 1 Convolutional Layer\n"
   ]
  },
  {
   "cell_type": "raw",
   "metadata": {},
   "source": [
    "# This CNN takes as input tensors of shape (image_height, image_width, image_channels). In this case, I configure the CNN to process inputs of size (28, 28, 1), which is the format of the FashionMNIST images. I do this by passing the argument input_shape=(28, 28, 1) to the first layer.\n",
    "\n",
    "The 1st layer is a Conv2D layer for the convolution operation that extracts features from the input images by sliding a convolution filter over the input to produce a feature map. Here I choose feature map with size 3 x 3.\n",
    "The 2nd layer is a MaxPooling2D layer for the max-pooling operation that reduces the dimensionality of each feature, which helps shorten training time and reduce number of parameters. Here I choose the pooling window with size 2 x 2.\n",
    "To combat overfititng, I add a Dropout layer as the 3rd layer, a powerful regularization technique. Dropout is the method used to reduce overfitting. It forces the model to learn multiple independent representations of the same data by randomly disabling neurons in the learning phase. In this model, dropout will randomnly disable 20% of the neurons.\n",
    "The next step is to feed the last output tensor into a stack of Dense layers, otherwise known as fully-connected layers. These densely connected classifiers process vectors, which are 1D, whereas the current output is a 3D tensor. Thus, I need to flatten the 3D outputs to 1D, and then add 2 Dense layers on top.\n",
    "I do a 10-way classification (as there are 10 classes of fashion images), using a final layer with 10 outputs and a softmax activation. Softmax activation enables me to calculate the output based on the probabilities. Each class is assigned a probability and the class with the maximum probability is the model’s output for the input."
   ]
  },
  {
   "cell_type": "code",
   "execution_count": 3,
   "metadata": {},
   "outputs": [],
   "source": [
    "# Load training and test data into dataframes\n",
    "PATH = os.getcwd()\n",
    "from keras.utils import to_categorical\n",
    "df = pd.read_csv(PATH + '\\\\CNN-image-dataset.csv');\n",
    "data_train = df[0:5000]\n",
    "data_test = df[5001:]\n",
    "\n",
    "# X forms the training images, and y forms the training labels\n",
    "X = np.array(data_train.iloc[:, 2:])\n",
    "y = to_categorical(np.array(data_train.iloc[:, 1]))\n",
    "\n",
    "# Here I split original training data to sub-training (80%) and validation data (20%)\n",
    "X_train, X_val, y_train, y_val = train_test_split(X, y, test_size=0.2, random_state=13)\n",
    "\n",
    "# X_test forms the test images, and y_test forms the test labels\n",
    "X_test = np.array(data_test.iloc[:, 2:])\n",
    "y_test = to_categorical(np.array(data_test.iloc[:, 1]))"
   ]
  },
  {
   "cell_type": "code",
   "execution_count": 4,
   "metadata": {},
   "outputs": [],
   "source": [
    "# Each image's dimension is 28 x 28\n",
    "img_rows, img_cols = 28, 28\n",
    "input_shape = (img_rows, img_cols, 1)\n",
    "\n",
    "# Prepare the training images\n",
    "X_train = X_train.reshape(X_train.shape[0], img_rows, img_cols, 1)\n",
    "X_train = X_train.astype('float32')\n",
    "X_train /= 255\n",
    "\n",
    "# Prepare the test images\n",
    "X_test = X_test.reshape(X_test.shape[0], img_rows, img_cols, 1)\n",
    "X_test = X_test.astype('float32')\n",
    "X_test /= 255\n",
    "\n",
    "# Prepare the validation images\n",
    "X_val = X_val.reshape(X_val.shape[0], img_rows, img_cols, 1)\n",
    "X_val = X_val.astype('float32')\n",
    "X_val /= 255"
   ]
  },
  {
   "cell_type": "code",
   "execution_count": 5,
   "metadata": {},
   "outputs": [
    {
     "name": "stdout",
     "output_type": "stream",
     "text": [
      "(4000, 28, 28, 1)\n",
      "(5000, 28, 28, 1)\n",
      "(1000, 28, 28, 1)\n",
      "(1000, 3)\n"
     ]
    }
   ],
   "source": [
    "print(X_train.shape)\n",
    "print(X_test.shape)\n",
    "print(X_val.shape)\n",
    "print(y_val.shape)"
   ]
  },
  {
   "cell_type": "code",
   "execution_count": 6,
   "metadata": {},
   "outputs": [
    {
     "name": "stdout",
     "output_type": "stream",
     "text": [
      "WARNING:tensorflow:From C:\\Users\\rohit\\Miniconda3\\lib\\site-packages\\tensorflow\\python\\framework\\op_def_library.py:263: colocate_with (from tensorflow.python.framework.ops) is deprecated and will be removed in a future version.\n",
      "Instructions for updating:\n",
      "Colocations handled automatically by placer.\n",
      "WARNING:tensorflow:From C:\\Users\\rohit\\Miniconda3\\lib\\site-packages\\keras\\backend\\tensorflow_backend.py:3445: calling dropout (from tensorflow.python.ops.nn_ops) with keep_prob is deprecated and will be removed in a future version.\n",
      "Instructions for updating:\n",
      "Please use `rate` instead of `keep_prob`. Rate should be set to `rate = 1 - keep_prob`.\n"
     ]
    }
   ],
   "source": [
    "# Import Keras libraries\n",
    "import keras\n",
    "from keras.models import Sequential\n",
    "from keras.layers import Dense, Dropout, Flatten\n",
    "from keras.layers import Conv2D, MaxPooling2D\n",
    "\n",
    "cnn1 = Sequential()\n",
    "cnn1.add(Conv2D(32, kernel_size=(3, 3), activation='relu', input_shape=input_shape))\n",
    "cnn1.add(MaxPooling2D(pool_size=(2, 2)))\n",
    "cnn1.add(Dropout(0.2))\n",
    "\n",
    "cnn1.add(Flatten())\n",
    "\n",
    "cnn1.add(Dense(128, activation='relu'))\n",
    "cnn1.add(Dense(3, activation='softmax'))"
   ]
  },
  {
   "cell_type": "code",
   "execution_count": 7,
   "metadata": {},
   "outputs": [],
   "source": [
    "cnn1.compile(loss=keras.losses.categorical_crossentropy,\n",
    "              optimizer=keras.optimizers.Adam(),\n",
    "              metrics=['accuracy'])"
   ]
  },
  {
   "cell_type": "code",
   "execution_count": 8,
   "metadata": {},
   "outputs": [
    {
     "name": "stdout",
     "output_type": "stream",
     "text": [
      "WARNING:tensorflow:From C:\\Users\\rohit\\Miniconda3\\lib\\site-packages\\tensorflow\\python\\ops\\math_ops.py:3066: to_int32 (from tensorflow.python.ops.math_ops) is deprecated and will be removed in a future version.\n",
      "Instructions for updating:\n",
      "Use tf.cast instead.\n"
     ]
    },
    {
     "name": "stderr",
     "output_type": "stream",
     "text": [
      "C:\\Users\\rohit\\Miniconda3\\lib\\site-packages\\ipykernel_launcher.py:1: UserWarning: The `nb_epoch` argument in `fit` has been renamed `epochs`.\n",
      "  \"\"\"Entry point for launching an IPython kernel.\n"
     ]
    },
    {
     "name": "stdout",
     "output_type": "stream",
     "text": [
      "Train on 4000 samples, validate on 1000 samples\n",
      "Epoch 1/50\n",
      "4000/4000 [==============================] - 5s 1ms/step - loss: 0.8437 - acc: 0.7487 - val_loss: 0.6126 - val_acc: 0.8130\n",
      "Epoch 2/50\n",
      "4000/4000 [==============================] - 3s 628us/step - loss: 0.6456 - acc: 0.7900 - val_loss: 0.5915 - val_acc: 0.8130\n",
      "Epoch 3/50\n",
      "4000/4000 [==============================] - 3s 644us/step - loss: 0.6339 - acc: 0.7900 - val_loss: 0.5929 - val_acc: 0.8130\n",
      "Epoch 4/50\n",
      "4000/4000 [==============================] - 3s 653us/step - loss: 0.6307 - acc: 0.7900 - val_loss: 0.5967 - val_acc: 0.8130\n",
      "Epoch 5/50\n",
      "4000/4000 [==============================] - 3s 656us/step - loss: 0.6265 - acc: 0.7900 - val_loss: 0.5843 - val_acc: 0.8130\n",
      "Epoch 6/50\n",
      "4000/4000 [==============================] - 3s 657us/step - loss: 0.6196 - acc: 0.7900 - val_loss: 0.5838 - val_acc: 0.8130\n",
      "Epoch 7/50\n",
      "4000/4000 [==============================] - 3s 662us/step - loss: 0.6130 - acc: 0.7900 - val_loss: 0.5703 - val_acc: 0.8130\n",
      "Epoch 8/50\n",
      "4000/4000 [==============================] - 3s 641us/step - loss: 0.6005 - acc: 0.7900 - val_loss: 0.5572 - val_acc: 0.8130\n",
      "Epoch 9/50\n",
      "4000/4000 [==============================] - 3s 642us/step - loss: 0.5831 - acc: 0.7900 - val_loss: 0.5371 - val_acc: 0.8130\n",
      "Epoch 10/50\n",
      "4000/4000 [==============================] - 3s 651us/step - loss: 0.5573 - acc: 0.7900 - val_loss: 0.5156 - val_acc: 0.8130\n",
      "Epoch 11/50\n",
      "4000/4000 [==============================] - 3s 671us/step - loss: 0.5178 - acc: 0.7900 - val_loss: 0.4645 - val_acc: 0.8130\n",
      "Epoch 12/50\n",
      "4000/4000 [==============================] - 3s 664us/step - loss: 0.4653 - acc: 0.7900 - val_loss: 0.4118 - val_acc: 0.8160\n",
      "Epoch 13/50\n",
      "4000/4000 [==============================] - 3s 673us/step - loss: 0.4076 - acc: 0.8557 - val_loss: 0.3623 - val_acc: 0.9130\n",
      "Epoch 14/50\n",
      "4000/4000 [==============================] - 3s 717us/step - loss: 0.3561 - acc: 0.9113 - val_loss: 0.3158 - val_acc: 0.9270\n",
      "Epoch 15/50\n",
      "4000/4000 [==============================] - 3s 644us/step - loss: 0.3156 - acc: 0.9262 - val_loss: 0.2859 - val_acc: 0.9280\n",
      "Epoch 16/50\n",
      "4000/4000 [==============================] - 3s 647us/step - loss: 0.2885 - acc: 0.9317 - val_loss: 0.2626 - val_acc: 0.9410\n",
      "Epoch 17/50\n",
      "4000/4000 [==============================] - 3s 670us/step - loss: 0.2642 - acc: 0.9365 - val_loss: 0.2454 - val_acc: 0.9420\n",
      "Epoch 18/50\n",
      "4000/4000 [==============================] - 3s 642us/step - loss: 0.2465 - acc: 0.9363 - val_loss: 0.2265 - val_acc: 0.9410\n",
      "Epoch 19/50\n",
      "4000/4000 [==============================] - 3s 654us/step - loss: 0.2311 - acc: 0.9392 - val_loss: 0.2146 - val_acc: 0.9420\n",
      "Epoch 20/50\n",
      "4000/4000 [==============================] - 3s 639us/step - loss: 0.2155 - acc: 0.9397 - val_loss: 0.1999 - val_acc: 0.9420\n",
      "Epoch 21/50\n",
      "4000/4000 [==============================] - 3s 685us/step - loss: 0.2029 - acc: 0.9388 - val_loss: 0.1868 - val_acc: 0.9430\n",
      "Epoch 22/50\n",
      "4000/4000 [==============================] - 3s 651us/step - loss: 0.1886 - acc: 0.9395 - val_loss: 0.1732 - val_acc: 0.9430\n",
      "Epoch 23/50\n",
      "4000/4000 [==============================] - 3s 666us/step - loss: 0.1752 - acc: 0.9405 - val_loss: 0.1641 - val_acc: 0.9420\n",
      "Epoch 24/50\n",
      "4000/4000 [==============================] - 3s 668us/step - loss: 0.1637 - acc: 0.9413 - val_loss: 0.1499 - val_acc: 0.9420\n",
      "Epoch 25/50\n",
      "4000/4000 [==============================] - 3s 697us/step - loss: 0.1514 - acc: 0.9413 - val_loss: 0.1400 - val_acc: 0.9540\n",
      "Epoch 26/50\n",
      "4000/4000 [==============================] - 3s 717us/step - loss: 0.1385 - acc: 0.9525 - val_loss: 0.1261 - val_acc: 0.9610\n",
      "Epoch 27/50\n",
      "4000/4000 [==============================] - 3s 665us/step - loss: 0.1290 - acc: 0.9620 - val_loss: 0.1167 - val_acc: 0.9610\n",
      "Epoch 28/50\n",
      "4000/4000 [==============================] - 3s 648us/step - loss: 0.1193 - acc: 0.9670 - val_loss: 0.1082 - val_acc: 0.9710\n",
      "Epoch 29/50\n",
      "4000/4000 [==============================] - 2s 623us/step - loss: 0.1130 - acc: 0.9707 - val_loss: 0.1030 - val_acc: 0.9760\n",
      "Epoch 30/50\n",
      "4000/4000 [==============================] - 3s 635us/step - loss: 0.1050 - acc: 0.9745 - val_loss: 0.0958 - val_acc: 0.9790\n",
      "Epoch 31/50\n",
      "4000/4000 [==============================] - 3s 642us/step - loss: 0.0976 - acc: 0.9778 - val_loss: 0.0922 - val_acc: 0.9800\n",
      "Epoch 32/50\n",
      "4000/4000 [==============================] - 3s 656us/step - loss: 0.0935 - acc: 0.9797 - val_loss: 0.0877 - val_acc: 0.9820\n",
      "Epoch 33/50\n",
      "4000/4000 [==============================] - 3s 678us/step - loss: 0.0902 - acc: 0.9773 - val_loss: 0.0826 - val_acc: 0.9810\n",
      "Epoch 34/50\n",
      "4000/4000 [==============================] - 3s 628us/step - loss: 0.0853 - acc: 0.9805 - val_loss: 0.0792 - val_acc: 0.9820\n",
      "Epoch 35/50\n",
      "4000/4000 [==============================] - 3s 646us/step - loss: 0.0822 - acc: 0.9802 - val_loss: 0.0755 - val_acc: 0.9800\n",
      "Epoch 36/50\n",
      "4000/4000 [==============================] - 3s 643us/step - loss: 0.0821 - acc: 0.9795 - val_loss: 0.0744 - val_acc: 0.9790\n",
      "Epoch 37/50\n",
      "4000/4000 [==============================] - 3s 652us/step - loss: 0.0794 - acc: 0.9815 - val_loss: 0.0712 - val_acc: 0.9810\n",
      "Epoch 38/50\n",
      "4000/4000 [==============================] - 3s 652us/step - loss: 0.0759 - acc: 0.9820 - val_loss: 0.0703 - val_acc: 0.9840\n",
      "Epoch 39/50\n",
      "4000/4000 [==============================] - 3s 653us/step - loss: 0.0723 - acc: 0.9822 - val_loss: 0.0680 - val_acc: 0.9840\n",
      "Epoch 40/50\n",
      "4000/4000 [==============================] - 3s 640us/step - loss: 0.0717 - acc: 0.9840 - val_loss: 0.0663 - val_acc: 0.9830\n",
      "Epoch 41/50\n",
      "4000/4000 [==============================] - 3s 642us/step - loss: 0.0686 - acc: 0.9838 - val_loss: 0.0653 - val_acc: 0.9820\n",
      "Epoch 42/50\n",
      "4000/4000 [==============================] - 3s 654us/step - loss: 0.0679 - acc: 0.9833 - val_loss: 0.0665 - val_acc: 0.9840\n",
      "Epoch 43/50\n",
      "4000/4000 [==============================] - 3s 647us/step - loss: 0.0669 - acc: 0.9842 - val_loss: 0.0640 - val_acc: 0.9840\n",
      "Epoch 44/50\n",
      "4000/4000 [==============================] - 3s 650us/step - loss: 0.0665 - acc: 0.9847 - val_loss: 0.0653 - val_acc: 0.9830\n",
      "Epoch 45/50\n",
      "4000/4000 [==============================] - 3s 677us/step - loss: 0.0682 - acc: 0.9842 - val_loss: 0.0669 - val_acc: 0.9840\n",
      "Epoch 46/50\n",
      "4000/4000 [==============================] - 3s 629us/step - loss: 0.0625 - acc: 0.9860 - val_loss: 0.0598 - val_acc: 0.9810\n",
      "Epoch 47/50\n",
      "4000/4000 [==============================] - 3s 693us/step - loss: 0.0591 - acc: 0.9857 - val_loss: 0.0606 - val_acc: 0.9850\n",
      "Epoch 48/50\n",
      "4000/4000 [==============================] - 3s 679us/step - loss: 0.0606 - acc: 0.9855 - val_loss: 0.0602 - val_acc: 0.9850\n",
      "Epoch 49/50\n",
      "4000/4000 [==============================] - 3s 682us/step - loss: 0.0583 - acc: 0.9863 - val_loss: 0.0698 - val_acc: 0.9800\n",
      "Epoch 50/50\n",
      "4000/4000 [==============================] - 3s 647us/step - loss: 0.0608 - acc: 0.9858 - val_loss: 0.0642 - val_acc: 0.9850\n"
     ]
    }
   ],
   "source": [
    "history1 = cnn1.fit(X_train, y_train, batch_size=256 , nb_epoch=50, verbose=1, validation_data=(X_val, y_val))"
   ]
  },
  {
   "cell_type": "code",
   "execution_count": 9,
   "metadata": {},
   "outputs": [
    {
     "name": "stdout",
     "output_type": "stream",
     "text": [
      "Test loss: 0.03423081789463758\n",
      "Test accuracy: 0.9928\n"
     ]
    }
   ],
   "source": [
    "score1 = cnn1.evaluate(X_test, y_test, verbose=0)\n",
    "print('Test loss:', score1[0])\n",
    "print('Test accuracy:', score1[1])"
   ]
  },
  {
   "cell_type": "code",
   "execution_count": 10,
   "metadata": {},
   "outputs": [
    {
     "name": "stdout",
     "output_type": "stream",
     "text": [
      "50\n"
     ]
    },
    {
     "data": {
      "text/plain": [
       "<matplotlib.legend.Legend at 0x2ae8e03e5f8>"
      ]
     },
     "execution_count": 10,
     "metadata": {},
     "output_type": "execute_result"
    },
    {
     "data": {
      "image/png": "[encoded data removed]",
      "text/plain": [
       "<Figure size 504x360 with 1 Axes>"
      ]
     },
     "metadata": {
      "needs_background": "light"
     },
     "output_type": "display_data"
    },
    {
     "data": {
      "image/png": "[encoded data removed]",
      "text/plain": [
       "<Figure size 504x360 with 1 Axes>"
      ]
     },
     "metadata": {
      "needs_background": "light"
     },
     "output_type": "display_data"
    }
   ],
   "source": [
    "# visualizing losses and accuracy\n",
    "train_loss=history1.history['loss']\n",
    "val_loss=history1.history['val_loss']\n",
    "train_acc=history1.history['acc']\n",
    "val_acc=history1.history['val_acc']\n",
    "xc=range(50)\n",
    "print(len(train_loss))\n",
    "plt.figure(1,figsize=(7,5))\n",
    "plt.plot(xc,train_loss)\n",
    "plt.plot(xc,val_loss)\n",
    "plt.xlabel('num of Epochs')\n",
    "plt.ylabel('loss')\n",
    "plt.title('train_loss vs val_loss')\n",
    "plt.grid(True)\n",
    "plt.legend(['train','val'])\n",
    "#print plt.style.available # use bmh, classic,ggplot for big pictures\n",
    "#plt.style.use(['classic'])\n",
    "\n",
    "plt.figure(2,figsize=(7,5))\n",
    "plt.plot(xc,train_acc)\n",
    "plt.plot(xc,val_acc)\n",
    "plt.xlabel('num of Epochs')\n",
    "plt.ylabel('accuracy')\n",
    "plt.title('train_acc vs val_acc')\n",
    "plt.grid(True)\n",
    "plt.legend(['train','val'],loc=4)"
   ]
  },
  {
   "cell_type": "code",
   "execution_count": 11,
   "metadata": {},
   "outputs": [],
   "source": [
    "# get the predictions for the test data\n",
    "predicted_classes = cnn1.predict_classes(X_test)\n",
    "\n",
    "# get the indices to be plotted\n",
    "y_true = data_test.iloc[:, 1].values\n",
    "correct = np.nonzero(predicted_classes==y_true)[0]\n",
    "incorrect = np.nonzero(predicted_classes!=y_true)[0]"
   ]
  },
  {
   "cell_type": "code",
   "execution_count": 12,
   "metadata": {},
   "outputs": [
    {
     "name": "stdout",
     "output_type": "stream",
     "text": [
      "              precision    recall  f1-score   support\n",
      "\n",
      "     Class 0       0.99      1.00      1.00      3674\n",
      "     Class 1       1.00      1.00      1.00      1039\n",
      "     Class 2       0.99      0.90      0.94       287\n",
      "\n",
      "   micro avg       0.99      0.99      0.99      5000\n",
      "   macro avg       0.99      0.97      0.98      5000\n",
      "weighted avg       0.99      0.99      0.99      5000\n",
      "\n"
     ]
    }
   ],
   "source": [
    "from sklearn.metrics import classification_report\n",
    "target_names = [\"Class {}\".format(i) for i in range(3)]\n",
    "print(classification_report(y_true, predicted_classes, target_names=target_names))"
   ]
  },
  {
   "cell_type": "code",
   "execution_count": 13,
   "metadata": {},
   "outputs": [
    {
     "data": {
      "image/png": "[encoded data removed]",
      "text/plain": [
       "<Figure size 432x288 with 9 Axes>"
      ]
     },
     "metadata": {
      "needs_background": "light"
     },
     "output_type": "display_data"
    }
   ],
   "source": [
    "for i, correct in enumerate(correct[:9]):\n",
    "    plt.subplot(3,3,i+1)\n",
    "    plt.imshow(X_test[correct].reshape(28,28), cmap='gray', interpolation='none')\n",
    "    plt.title(\"Predicted {}, Class {}\".format(predicted_classes[correct], y_true[correct]))\n",
    "    plt.tight_layout()"
   ]
  },
  {
   "cell_type": "code",
   "execution_count": 14,
   "metadata": {},
   "outputs": [
    {
     "data": {
      "image/png": "[encoded data removed]",
      "text/plain": [
       "<Figure size 432x288 with 9 Axes>"
      ]
     },
     "metadata": {
      "needs_background": "light"
     },
     "output_type": "display_data"
    }
   ],
   "source": [
    "\n",
    "for i, incorrect in enumerate(incorrect[0:9]):\n",
    "    plt.subplot(3,3,i+1)\n",
    "    plt.imshow(X_test[incorrect].reshape(28,28), cmap='gray', interpolation='none')\n",
    "    plt.title(\"Predicted {}, Class {}\".format(predicted_classes[incorrect], y_true[incorrect]))\n",
    "    plt.tight_layout()"
   ]
  },
  {
   "cell_type": "code",
   "execution_count": null,
   "metadata": {},
   "outputs": [],
   "source": []
  }
 ],
 "metadata": {
  "kernelspec": {
   "display_name": "Python 3",
   "language": "python",
   "name": "python3"
  },
  "language_info": {
   "codemirror_mode": {
    "name": "ipython",
    "version": 3
   },
   "file_extension": ".py",
   "mimetype": "text/x-python",
   "name": "python",
   "nbconvert_exporter": "python",
   "pygments_lexer": "ipython3",
   "version": "3.7.1"
  }
 },
 "nbformat": 4,
 "nbformat_minor": 2
}
