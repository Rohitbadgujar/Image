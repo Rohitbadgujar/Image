{
 "cells": [
  {
   "cell_type": "code",
   "execution_count": 1,
   "metadata": {},
   "outputs": [
    {
     "name": "stderr",
     "output_type": "stream",
     "text": [
      "Using TensorFlow backend.\n"
     ]
    }
   ],
   "source": [
    "import os,cv2\n",
    "import numpy as np\n",
    "import matplotlib.pyplot as plt\n",
    "from keras.preprocessing import image\n",
    "from sklearn.utils import shuffle\n",
    "from sklearn.model_selection import train_test_split\n",
    "from keras import backend as K\n",
    "#K.set_image_dim_ordering('th')\n",
    "\n",
    "from keras.utils import np_utils\n",
    "from keras.models import Sequential\n",
    "from keras.layers.core import Dense, Dropout, Activation, Flatten\n",
    "from keras.layers.convolutional import Convolution2D, MaxPooling2D\n",
    "from keras.optimizers import SGD,RMSprop,adam\n",
    "import pandas as pd\n",
    "import csv\n",
    "from os.path import splitext\n",
    "from sklearn.preprocessing import LabelEncoder\n",
    "from PIL import Image"
   ]
  },
  {
   "cell_type": "code",
   "execution_count": 2,
   "metadata": {},
   "outputs": [],
   "source": [
    "# Load training and test data into dataframes\n",
    "PATH = os.getcwd()\n",
    "from keras.utils import to_categorical\n",
    "df = pd.read_csv(PATH + '\\\\CNN-image-dataset.csv');\n",
    "data_train = df[0:5000]\n",
    "data_test = df[5001:]\n",
    "\n",
    "# X forms the training images, and y forms the training labels\n",
    "X = np.array(data_train.iloc[:, 2:])\n",
    "y = to_categorical(np.array(data_train.iloc[:, 1]))\n",
    "\n",
    "# Here I split original training data to sub-training (80%) and validation data (20%)\n",
    "X_train, X_val, y_train, y_val = train_test_split(X, y, test_size=0.2, random_state=13)\n",
    "\n",
    "# X_test forms the test images, and y_test forms the test labels\n",
    "X_test = np.array(data_test.iloc[:, 2:])\n",
    "y_test = to_categorical(np.array(data_test.iloc[:, 1]))"
   ]
  },
  {
   "cell_type": "code",
   "execution_count": 3,
   "metadata": {},
   "outputs": [],
   "source": [
    "# Each image's dimension is 28 x 28\n",
    "img_rows, img_cols = 28, 28\n",
    "input_shape = (img_rows, img_cols, 1)\n",
    "\n",
    "# Prepare the training images\n",
    "X_train = X_train.reshape(X_train.shape[0], img_rows, img_cols, 1)\n",
    "X_train = X_train.astype('float32')\n",
    "X_train /= 255\n",
    "\n",
    "# Prepare the test images\n",
    "X_test = X_test.reshape(X_test.shape[0], img_rows, img_cols, 1)\n",
    "X_test = X_test.astype('float32')\n",
    "X_test /= 255\n",
    "\n",
    "# Prepare the validation images\n",
    "X_val = X_val.reshape(X_val.shape[0], img_rows, img_cols, 1)\n",
    "X_val = X_val.astype('float32')\n",
    "X_val /= 255"
   ]
  },
  {
   "cell_type": "code",
   "execution_count": 4,
   "metadata": {},
   "outputs": [
    {
     "name": "stdout",
     "output_type": "stream",
     "text": [
      "(4000, 28, 28, 1)\n",
      "(5000, 28, 28, 1)\n",
      "(1000, 28, 28, 1)\n",
      "(1000, 3)\n"
     ]
    }
   ],
   "source": [
    "print(X_train.shape)\n",
    "print(X_test.shape)\n",
    "print(X_val.shape)\n",
    "print(y_val.shape)"
   ]
  },
  {
   "cell_type": "code",
   "execution_count": 8,
   "metadata": {},
   "outputs": [],
   "source": [
    "import keras\n",
    "from keras.models import Sequential\n",
    "from keras.layers import Dense, Dropout, Flatten\n",
    "from keras.layers import Conv2D, MaxPooling2D\n",
    "\n",
    "cnn3 = Sequential()\n",
    "cnn3.add(Conv2D(32, kernel_size=(3, 3), activation='relu', input_shape=input_shape))\n",
    "cnn3.add(MaxPooling2D((2, 2)))\n",
    "cnn3.add(Dropout(0.25))\n",
    "\n",
    "cnn3.add(Conv2D(64, kernel_size=(3, 3), activation='relu'))\n",
    "cnn3.add(MaxPooling2D(pool_size=(2, 2)))\n",
    "cnn3.add(Dropout(0.25))\n",
    "\n",
    "cnn3.add(Conv2D(128, kernel_size=(3, 3), activation='relu'))\n",
    "cnn3.add(Dropout(0.4))\n",
    "\n",
    "cnn3.add(Flatten())\n",
    "\n",
    "cnn3.add(Dense(128, activation='relu'))\n",
    "cnn3.add(Dropout(0.3))\n",
    "cnn3.add(Dense(3, activation='softmax'))"
   ]
  },
  {
   "cell_type": "code",
   "execution_count": 9,
   "metadata": {},
   "outputs": [
    {
     "name": "stdout",
     "output_type": "stream",
     "text": [
      "_________________________________________________________________\n",
      "Layer (type)                 Output Shape              Param #   \n",
      "=================================================================\n",
      "conv2d_4 (Conv2D)            (None, 26, 26, 32)        320       \n",
      "_________________________________________________________________\n",
      "max_pooling2d_3 (MaxPooling2 (None, 13, 13, 32)        0         \n",
      "_________________________________________________________________\n",
      "dropout_5 (Dropout)          (None, 13, 13, 32)        0         \n",
      "_________________________________________________________________\n",
      "conv2d_5 (Conv2D)            (None, 11, 11, 64)        18496     \n",
      "_________________________________________________________________\n",
      "max_pooling2d_4 (MaxPooling2 (None, 5, 5, 64)          0         \n",
      "_________________________________________________________________\n",
      "dropout_6 (Dropout)          (None, 5, 5, 64)          0         \n",
      "_________________________________________________________________\n",
      "conv2d_6 (Conv2D)            (None, 3, 3, 128)         73856     \n",
      "_________________________________________________________________\n",
      "dropout_7 (Dropout)          (None, 3, 3, 128)         0         \n",
      "_________________________________________________________________\n",
      "flatten_2 (Flatten)          (None, 1152)              0         \n",
      "_________________________________________________________________\n",
      "dense_3 (Dense)              (None, 128)               147584    \n",
      "_________________________________________________________________\n",
      "dropout_8 (Dropout)          (None, 128)               0         \n",
      "_________________________________________________________________\n",
      "dense_4 (Dense)              (None, 3)                 387       \n",
      "=================================================================\n",
      "Total params: 240,643\n",
      "Trainable params: 240,643\n",
      "Non-trainable params: 0\n",
      "_________________________________________________________________\n"
     ]
    }
   ],
   "source": [
    "\n",
    "cnn3.compile(loss=keras.losses.categorical_crossentropy,\n",
    "              optimizer=keras.optimizers.Adam(),\n",
    "              metrics=['accuracy'])\n",
    "cnn3.summary()"
   ]
  },
  {
   "cell_type": "code",
   "execution_count": 11,
   "metadata": {},
   "outputs": [
    {
     "name": "stdout",
     "output_type": "stream",
     "text": [
      "Train on 4000 samples, validate on 1000 samples\n",
      "Epoch 1/50\n",
      "4000/4000 [==============================] - 4s 893us/step - loss: 0.6392 - acc: 0.7900 - val_loss: 0.5941 - val_acc: 0.8130\n",
      "Epoch 2/50\n",
      "4000/4000 [==============================] - 4s 896us/step - loss: 0.6378 - acc: 0.7900 - val_loss: 0.5950 - val_acc: 0.8130\n",
      "Epoch 3/50\n",
      "4000/4000 [==============================] - 4s 882us/step - loss: 0.6351 - acc: 0.7900 - val_loss: 0.5957 - val_acc: 0.8130\n",
      "Epoch 4/50\n",
      "4000/4000 [==============================] - 4s 880us/step - loss: 0.6346 - acc: 0.7900 - val_loss: 0.6046 - val_acc: 0.8130\n",
      "Epoch 5/50\n",
      "4000/4000 [==============================] - 3s 869us/step - loss: 0.6378 - acc: 0.7900 - val_loss: 0.5960 - val_acc: 0.8130\n",
      "Epoch 6/50\n",
      "4000/4000 [==============================] - 3s 872us/step - loss: 0.6371 - acc: 0.7900 - val_loss: 0.5932 - val_acc: 0.8130\n",
      "Epoch 7/50\n",
      "4000/4000 [==============================] - 3s 867us/step - loss: 0.6339 - acc: 0.7900 - val_loss: 0.5958 - val_acc: 0.8130\n",
      "Epoch 8/50\n",
      "4000/4000 [==============================] - 4s 878us/step - loss: 0.6316 - acc: 0.7900 - val_loss: 0.5901 - val_acc: 0.8130\n",
      "Epoch 9/50\n",
      "4000/4000 [==============================] - 3s 867us/step - loss: 0.6258 - acc: 0.7900 - val_loss: 0.5822 - val_acc: 0.8130\n",
      "Epoch 10/50\n",
      "4000/4000 [==============================] - 4s 883us/step - loss: 0.6109 - acc: 0.7900 - val_loss: 0.5491 - val_acc: 0.8130\n",
      "Epoch 11/50\n",
      "4000/4000 [==============================] - 3s 874us/step - loss: 0.5375 - acc: 0.7900 - val_loss: 0.4241 - val_acc: 0.8130\n",
      "Epoch 12/50\n",
      "4000/4000 [==============================] - 4s 883us/step - loss: 0.4302 - acc: 0.8457 - val_loss: 0.3360 - val_acc: 0.9050\n",
      "Epoch 13/50\n",
      "4000/4000 [==============================] - 3s 873us/step - loss: 0.3344 - acc: 0.9017 - val_loss: 0.2497 - val_acc: 0.9040\n",
      "Epoch 14/50\n",
      "4000/4000 [==============================] - 3s 873us/step - loss: 0.2648 - acc: 0.9110 - val_loss: 0.1936 - val_acc: 0.9320\n",
      "Epoch 15/50\n",
      "4000/4000 [==============================] - 3s 874us/step - loss: 0.2257 - acc: 0.9143 - val_loss: 0.1773 - val_acc: 0.9120\n",
      "Epoch 16/50\n",
      "4000/4000 [==============================] - 4s 884us/step - loss: 0.1862 - acc: 0.9313 - val_loss: 0.1379 - val_acc: 0.9540\n",
      "Epoch 17/50\n",
      "4000/4000 [==============================] - 4s 884us/step - loss: 0.1591 - acc: 0.9463 - val_loss: 0.1215 - val_acc: 0.9690\n",
      "Epoch 18/50\n",
      "4000/4000 [==============================] - 4s 900us/step - loss: 0.1479 - acc: 0.9535 - val_loss: 0.0986 - val_acc: 0.9780\n",
      "Epoch 19/50\n",
      "4000/4000 [==============================] - 4s 890us/step - loss: 0.1340 - acc: 0.9602 - val_loss: 0.0845 - val_acc: 0.9800\n",
      "Epoch 20/50\n",
      "4000/4000 [==============================] - 3s 875us/step - loss: 0.1201 - acc: 0.9657 - val_loss: 0.0800 - val_acc: 0.9780\n",
      "Epoch 21/50\n",
      "4000/4000 [==============================] - 4s 881us/step - loss: 0.1141 - acc: 0.9667 - val_loss: 0.0748 - val_acc: 0.9790\n",
      "Epoch 22/50\n",
      "4000/4000 [==============================] - 4s 880us/step - loss: 0.1052 - acc: 0.9697 - val_loss: 0.0711 - val_acc: 0.9810\n",
      "Epoch 23/50\n",
      "4000/4000 [==============================] - 4s 879us/step - loss: 0.1101 - acc: 0.9683 - val_loss: 0.0742 - val_acc: 0.9820\n",
      "Epoch 24/50\n",
      "4000/4000 [==============================] - 4s 879us/step - loss: 0.1001 - acc: 0.9725 - val_loss: 0.0749 - val_acc: 0.9780\n",
      "Epoch 25/50\n",
      "4000/4000 [==============================] - 3s 871us/step - loss: 0.1023 - acc: 0.9710 - val_loss: 0.0646 - val_acc: 0.9800\n",
      "Epoch 26/50\n",
      "4000/4000 [==============================] - 4s 880us/step - loss: 0.0958 - acc: 0.9697 - val_loss: 0.0643 - val_acc: 0.9820\n",
      "Epoch 27/50\n",
      "4000/4000 [==============================] - 4s 879us/step - loss: 0.0974 - acc: 0.9705 - val_loss: 0.0638 - val_acc: 0.9820\n",
      "Epoch 28/50\n",
      "4000/4000 [==============================] - 3s 873us/step - loss: 0.0901 - acc: 0.9727 - val_loss: 0.0654 - val_acc: 0.9770\n",
      "Epoch 29/50\n",
      "4000/4000 [==============================] - 4s 884us/step - loss: 0.0895 - acc: 0.9725 - val_loss: 0.0688 - val_acc: 0.9770\n",
      "Epoch 30/50\n",
      "4000/4000 [==============================] - 4s 881us/step - loss: 0.0886 - acc: 0.9745 - val_loss: 0.0636 - val_acc: 0.9840\n",
      "Epoch 31/50\n",
      "4000/4000 [==============================] - 4s 883us/step - loss: 0.0837 - acc: 0.9745 - val_loss: 0.0606 - val_acc: 0.9780\n",
      "Epoch 32/50\n",
      "4000/4000 [==============================] - 4s 880us/step - loss: 0.0784 - acc: 0.9747 - val_loss: 0.0605 - val_acc: 0.9790\n",
      "Epoch 33/50\n",
      "4000/4000 [==============================] - 4s 876us/step - loss: 0.0786 - acc: 0.9750 - val_loss: 0.0567 - val_acc: 0.9820\n",
      "Epoch 34/50\n",
      "4000/4000 [==============================] - 3s 871us/step - loss: 0.0795 - acc: 0.9775 - val_loss: 0.0604 - val_acc: 0.9780\n",
      "Epoch 35/50\n",
      "4000/4000 [==============================] - 4s 882us/step - loss: 0.0702 - acc: 0.9805 - val_loss: 0.0547 - val_acc: 0.9810\n",
      "Epoch 36/50\n",
      "4000/4000 [==============================] - 4s 879us/step - loss: 0.0730 - acc: 0.9782 - val_loss: 0.0577 - val_acc: 0.9830\n",
      "Epoch 37/50\n",
      "4000/4000 [==============================] - 3s 874us/step - loss: 0.0724 - acc: 0.9790 - val_loss: 0.0520 - val_acc: 0.9850\n",
      "Epoch 38/50\n",
      "4000/4000 [==============================] - 3s 874us/step - loss: 0.0751 - acc: 0.9803 - val_loss: 0.0574 - val_acc: 0.9790\n",
      "Epoch 39/50\n",
      "4000/4000 [==============================] - 4s 878us/step - loss: 0.0706 - acc: 0.9795 - val_loss: 0.0533 - val_acc: 0.9820\n",
      "Epoch 40/50\n",
      "4000/4000 [==============================] - 4s 886us/step - loss: 0.0691 - acc: 0.9760 - val_loss: 0.0539 - val_acc: 0.9850\n",
      "Epoch 41/50\n",
      "4000/4000 [==============================] - 3s 873us/step - loss: 0.0652 - acc: 0.9797 - val_loss: 0.0538 - val_acc: 0.9820\n",
      "Epoch 42/50\n",
      "4000/4000 [==============================] - 3s 872us/step - loss: 0.0700 - acc: 0.9795 - val_loss: 0.0510 - val_acc: 0.9840\n",
      "Epoch 43/50\n",
      "4000/4000 [==============================] - 4s 879us/step - loss: 0.0684 - acc: 0.9800 - val_loss: 0.0548 - val_acc: 0.9830\n",
      "Epoch 44/50\n",
      "4000/4000 [==============================] - 4s 904us/step - loss: 0.0662 - acc: 0.9822 - val_loss: 0.0504 - val_acc: 0.9830\n",
      "Epoch 45/50\n",
      "4000/4000 [==============================] - 4s 878us/step - loss: 0.0594 - acc: 0.9830 - val_loss: 0.0506 - val_acc: 0.9840\n",
      "Epoch 46/50\n",
      "4000/4000 [==============================] - 4s 877us/step - loss: 0.0535 - acc: 0.9828 - val_loss: 0.0488 - val_acc: 0.9860\n",
      "Epoch 47/50\n",
      "4000/4000 [==============================] - 4s 880us/step - loss: 0.0557 - acc: 0.9837 - val_loss: 0.0488 - val_acc: 0.9850\n",
      "Epoch 48/50\n",
      "4000/4000 [==============================] - 4s 912us/step - loss: 0.0621 - acc: 0.9808 - val_loss: 0.0495 - val_acc: 0.9840\n",
      "Epoch 49/50\n",
      "4000/4000 [==============================] - 4s 943us/step - loss: 0.0585 - acc: 0.9825 - val_loss: 0.0498 - val_acc: 0.9850\n",
      "Epoch 50/50\n",
      "4000/4000 [==============================] - 4s 977us/step - loss: 0.0578 - acc: 0.9828 - val_loss: 0.0458 - val_acc: 0.9870\n"
     ]
    }
   ],
   "source": [
    "\n",
    "history3 = cnn3.fit(X_train, y_train,\n",
    "          batch_size=256,\n",
    "          epochs=50,\n",
    "          verbose=1,\n",
    "          validation_data=(X_val, y_val))"
   ]
  },
  {
   "cell_type": "code",
   "execution_count": 13,
   "metadata": {},
   "outputs": [
    {
     "name": "stdout",
     "output_type": "stream",
     "text": [
      "Test loss: 0.027770305449631997\n",
      "Test accuracy: 0.9944\n"
     ]
    }
   ],
   "source": [
    "score3 = cnn3.evaluate(X_test, y_test, verbose=0)\n",
    "print('Test loss:', score3[0])\n",
    "print('Test accuracy:', score3[1])"
   ]
  },
  {
   "cell_type": "code",
   "execution_count": 15,
   "metadata": {},
   "outputs": [
    {
     "name": "stdout",
     "output_type": "stream",
     "text": [
      "50\n"
     ]
    },
    {
     "data": {
      "text/plain": [
       "<matplotlib.legend.Legend at 0x24b06f91518>"
      ]
     },
     "execution_count": 15,
     "metadata": {},
     "output_type": "execute_result"
    },
    {
     "data": {
      "image/png": "[encoded data removed]",
      "text/plain": [
       "<Figure size 504x360 with 1 Axes>"
      ]
     },
     "metadata": {
      "needs_background": "light"
     },
     "output_type": "display_data"
    },
    {
     "data": {
      "image/png": "[encoded data removed]",
      "text/plain": [
       "<Figure size 504x360 with 1 Axes>"
      ]
     },
     "metadata": {
      "needs_background": "light"
     },
     "output_type": "display_data"
    }
   ],
   "source": [
    "# visualizing losses and accuracy\n",
    "train_loss=history3.history['loss']\n",
    "val_loss=history3.history['val_loss']\n",
    "train_acc=history3.history['acc']\n",
    "val_acc=history3.history['val_acc']\n",
    "xc=range(50)\n",
    "print(len(train_loss))\n",
    "plt.figure(1,figsize=(7,5))\n",
    "plt.plot(xc,train_loss)\n",
    "plt.plot(xc,val_loss)\n",
    "plt.xlabel('num of Epochs')\n",
    "plt.ylabel('loss')\n",
    "plt.title('train_loss vs val_loss')\n",
    "plt.grid(True)\n",
    "plt.legend(['train','val'])\n",
    "#print plt.style.available # use bmh, classic,ggplot for big pictures\n",
    "#plt.style.use(['classic'])\n",
    "\n",
    "plt.figure(2,figsize=(7,5))\n",
    "plt.plot(xc,train_acc)\n",
    "plt.plot(xc,val_acc)\n",
    "plt.xlabel('num of Epochs')\n",
    "plt.ylabel('accuracy')\n",
    "plt.title('train_acc vs val_acc')\n",
    "plt.grid(True)\n",
    "plt.legend(['train','val'],loc=4)"
   ]
  },
  {
   "cell_type": "code",
   "execution_count": 16,
   "metadata": {},
   "outputs": [],
   "source": [
    "# get the predictions for the test data\n",
    "predicted_classes = cnn3.predict_classes(X_test)\n",
    "\n",
    "# get the indices to be plotted\n",
    "y_true = data_test.iloc[:, 1].values\n",
    "correct = np.nonzero(predicted_classes==y_true)[0]\n",
    "incorrect = np.nonzero(predicted_classes!=y_true)[0]"
   ]
  },
  {
   "cell_type": "code",
   "execution_count": 17,
   "metadata": {},
   "outputs": [
    {
     "data": {
      "text/plain": [
       "4972"
      ]
     },
     "execution_count": 17,
     "metadata": {},
     "output_type": "execute_result"
    }
   ],
   "source": [
    "len(correct)"
   ]
  },
  {
   "cell_type": "code",
   "execution_count": 18,
   "metadata": {},
   "outputs": [
    {
     "data": {
      "text/plain": [
       "28"
      ]
     },
     "execution_count": 18,
     "metadata": {},
     "output_type": "execute_result"
    }
   ],
   "source": [
    "len(incorrect)"
   ]
  },
  {
   "cell_type": "code",
   "execution_count": null,
   "metadata": {},
   "outputs": [],
   "source": []
  }
 ],
 "metadata": {
  "kernelspec": {
   "display_name": "Python 3",
   "language": "python",
   "name": "python3"
  },
  "language_info": {
   "codemirror_mode": {
    "name": "ipython",
    "version": 3
   },
   "file_extension": ".py",
   "mimetype": "text/x-python",
   "name": "python",
   "nbconvert_exporter": "python",
   "pygments_lexer": "ipython3",
   "version": "3.7.1"
  }
 },
 "nbformat": 4,
 "nbformat_minor": 2
}
